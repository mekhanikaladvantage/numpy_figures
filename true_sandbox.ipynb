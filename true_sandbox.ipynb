{
 "cells": [
  {
   "cell_type": "code",
   "execution_count": 2,
   "metadata": {},
   "outputs": [],
   "source": [
    "#this is a notebook purely for investigating things of interest.\n",
    "import numpy as np\n",
    "import matplotlib.pyplot as plt"
   ]
  },
  {
   "cell_type": "code",
   "execution_count": 4,
   "metadata": {},
   "outputs": [
    {
     "data": {
      "text/plain": [
       "array([0.        , 0.        , 0.        , 0.        , 0.        ,\n",
       "       0.        , 0.        , 0.        , 0.        , 0.        ,\n",
       "       0.11111111, 0.11111111, 0.11111111, 0.11111111, 0.11111111,\n",
       "       0.11111111, 0.11111111, 0.11111111, 0.11111111, 0.11111111,\n",
       "       0.22222222, 0.22222222, 0.22222222, 0.22222222, 0.22222222,\n",
       "       0.22222222, 0.22222222, 0.22222222, 0.22222222, 0.22222222,\n",
       "       0.33333333, 0.33333333, 0.33333333, 0.33333333, 0.33333333,\n",
       "       0.33333333, 0.33333333, 0.33333333, 0.33333333, 0.33333333,\n",
       "       0.44444444, 0.44444444, 0.44444444, 0.44444444, 0.44444444,\n",
       "       0.44444444, 0.44444444, 0.44444444, 0.44444444, 0.44444444,\n",
       "       0.55555556, 0.55555556, 0.55555556, 0.55555556, 0.55555556,\n",
       "       0.55555556, 0.55555556, 0.55555556, 0.55555556, 0.55555556,\n",
       "       0.66666667, 0.66666667, 0.66666667, 0.66666667, 0.66666667,\n",
       "       0.66666667, 0.66666667, 0.66666667, 0.66666667, 0.66666667,\n",
       "       0.77777778, 0.77777778, 0.77777778, 0.77777778, 0.77777778,\n",
       "       0.77777778, 0.77777778, 0.77777778, 0.77777778, 0.77777778,\n",
       "       0.88888889, 0.88888889, 0.88888889, 0.88888889, 0.88888889,\n",
       "       0.88888889, 0.88888889, 0.88888889, 0.88888889, 0.88888889,\n",
       "       1.        , 1.        , 1.        , 1.        , 1.        ,\n",
       "       1.        , 1.        , 1.        , 1.        , 1.        ])"
      ]
     },
     "execution_count": 4,
     "metadata": {},
     "output_type": "execute_result"
    }
   ],
   "source": [
    "#8/6 Repeat entries in linspace\n",
    "#We need to repeat each element of the linspace 10 times\n",
    "#there's a numpy method called np.repeat that might do the trick\n",
    "x = np.linspace(0,1,10)\n",
    "x\n",
    "repeated_x = np.repeat(x,10)\n",
    "repeated_x\n",
    "#wow it just works\n",
    "#thanks python"
   ]
  },
  {
   "cell_type": "code",
   "execution_count": null,
   "metadata": {},
   "outputs": [],
   "source": []
  }
 ],
 "metadata": {
  "kernelspec": {
   "display_name": "Python 3",
   "language": "python",
   "name": "python3"
  },
  "language_info": {
   "codemirror_mode": {
    "name": "ipython",
    "version": 3
   },
   "file_extension": ".py",
   "mimetype": "text/x-python",
   "name": "python",
   "nbconvert_exporter": "python",
   "pygments_lexer": "ipython3",
   "version": "3.7.3"
  }
 },
 "nbformat": 4,
 "nbformat_minor": 2
}
