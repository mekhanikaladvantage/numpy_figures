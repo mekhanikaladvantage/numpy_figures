{
 "cells": [
  {
   "cell_type": "code",
   "execution_count": 1,
   "metadata": {},
   "outputs": [],
   "source": [
    "import numpy as np\n",
    "import math\n",
    "import matplotlib.pyplot as plt"
   ]
  },
  {
   "cell_type": "code",
   "execution_count": 17,
   "metadata": {},
   "outputs": [
    {
     "data": {
      "image/png": "[encoded data removed]",
      "text/plain": [
       "<Figure size 432x288 with 3 Axes>"
      ]
     },
     "metadata": {
      "needs_background": "light"
     },
     "output_type": "display_data"
    }
   ],
   "source": [
    "#heat kernel with alpha = 1\n",
    "def heat_kernel(x,t):\n",
    "    return 1/math.sqrt(4*math.pi*t)*np.exp(-x**2/(4*t))\n",
    "    \n",
    "fig, axs = plt.subplots(1,3,sharey=True)\n",
    "plt.subplots_adjust(wspace=0.8)\n",
    "x = np.linspace(-6,6,num=1000)\n",
    "time_values = [1/10,1,5]\n",
    "for i in range(3):\n",
    "    axs[i].plot(x,heat_kernel(x,time_values[i]),'r-')\n",
    "plt.savefig('fig54.png')"
   ]
  },
  {
   "cell_type": "code",
   "execution_count": null,
   "metadata": {},
   "outputs": [],
   "source": []
  }
 ],
 "metadata": {
  "kernelspec": {
   "display_name": "Python 3",
   "language": "python",
   "name": "python3"
  },
  "language_info": {
   "codemirror_mode": {
    "name": "ipython",
    "version": 3
   },
   "file_extension": ".py",
   "mimetype": "text/x-python",
   "name": "python",
   "nbconvert_exporter": "python",
   "pygments_lexer": "ipython3",
   "version": "3.7.3"
  }
 },
 "nbformat": 4,
 "nbformat_minor": 4
}
