{
 "cells": [
  {
   "cell_type": "code",
   "execution_count": 1,
   "metadata": {},
   "outputs": [],
   "source": [
    "#exploring some more distrubtional convergence to delta functions\n",
    "#staying fresh on my plotting\n",
    "import numpy as np\n",
    "import matplotlib.pyplot as plt"
   ]
  },
  {
   "cell_type": "code",
   "execution_count": 3,
   "metadata": {},
   "outputs": [
    {
     "ename": "SyntaxError",
     "evalue": "invalid syntax (<ipython-input-3-344f8863cb27>, line 6)",
     "output_type": "error",
     "traceback": [
      "\u001b[1;36m  File \u001b[1;32m\"<ipython-input-3-344f8863cb27>\"\u001b[1;36m, line \u001b[1;32m6\u001b[0m\n\u001b[1;33m    ax2.plot(x,2*np.sin(4x)/x)\u001b[0m\n\u001b[1;37m                         ^\u001b[0m\n\u001b[1;31mSyntaxError\u001b[0m\u001b[1;31m:\u001b[0m invalid syntax\n"
     ]
    }
   ],
   "source": [
    "#Specifically we'll be investigating the distributional convergence on the sinc function 2*sin(ax)/x to 2pi delta\n",
    "x = np.linspace(-5,5,1000)\n",
    "f, (ax1,ax2,ax3) = plt.subplots(1,3,sharey=True)\n",
    "ax1.plot(x,2*np.sin(x)/x)\n",
    "ax1.set_title(\"a = 1\")\n",
    "ax2.plot(x,2*np.sin(4*x)/x)\n",
    "ax2.set_title(\"a = 4\")\n",
    "ax3.plot(x,2*np.sin(10*x)/x)\n",
    "ax3.set_title(\"a = 10\")"
   ]
  },
  {
   "cell_type": "code",
   "execution_count": null,
   "metadata": {},
   "outputs": [],
   "source": []
  }
 ],
 "metadata": {
  "kernelspec": {
   "display_name": "Python 3",
   "language": "python",
   "name": "python3"
  },
  "language_info": {
   "codemirror_mode": {
    "name": "ipython",
    "version": 3
   },
   "file_extension": ".py",
   "mimetype": "text/x-python",
   "name": "python",
   "nbconvert_exporter": "python",
   "pygments_lexer": "ipython3",
   "version": "3.7.3"
  }
 },
 "nbformat": 4,
 "nbformat_minor": 2
}
